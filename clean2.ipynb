{
 "cells": [
  {
   "cell_type": "code",
   "execution_count": 117,
   "metadata": {
    "collapsed": false
   },
   "outputs": [],
   "source": [
    "\n",
    "from easymoney.money import EasyPeasy\n",
    "import numpy as np\n",
    "import pandas as pd\n",
    "import pickle\n"
   ]
  },
  {
   "cell_type": "code",
   "execution_count": null,
   "metadata": {
    "collapsed": true
   },
   "outputs": [],
   "source": []
  },
  {
   "cell_type": "code",
   "execution_count": null,
   "metadata": {
    "collapsed": false
   },
   "outputs": [],
   "source": []
  },
  {
   "cell_type": "code",
   "execution_count": 118,
   "metadata": {
    "collapsed": true
   },
   "outputs": [],
   "source": [
    "# with open('all_movie_data.pkl', 'rb') as ip:\n",
    "#     old_df = pickle.load(ip)\n",
    "#     old_df = pd.DataFrame(old_df).T"
   ]
  },
  {
   "cell_type": "code",
   "execution_count": 113,
   "metadata": {
    "collapsed": true
   },
   "outputs": [],
   "source": [
    "with open('all_movie_data5.pkl', 'rb') as ip2:\n",
    "    new_df = pickle.load(ip2)\n",
    "    df = pd.DataFrame(new_df).T"
   ]
  },
  {
   "cell_type": "code",
   "execution_count": 114,
   "metadata": {
    "collapsed": false
   },
   "outputs": [],
   "source": [
    "# old_df.head()"
   ]
  },
  {
   "cell_type": "code",
   "execution_count": 115,
   "metadata": {
    "collapsed": false
   },
   "outputs": [],
   "source": [
    "# old_df.shape"
   ]
  },
  {
   "cell_type": "code",
   "execution_count": 119,
   "metadata": {
    "collapsed": false
   },
   "outputs": [
    {
     "data": {
      "text/html": [
       "<div>\n",
       "<table border=\"1\" class=\"dataframe\">\n",
       "  <thead>\n",
       "    <tr style=\"text-align: right;\">\n",
       "      <th></th>\n",
       "      <th>budget</th>\n",
       "      <th>distributor</th>\n",
       "      <th>domestic</th>\n",
       "      <th>foreign</th>\n",
       "      <th>genre</th>\n",
       "      <th>num_open_theatres</th>\n",
       "      <th>rating</th>\n",
       "      <th>release</th>\n",
       "      <th>runtime</th>\n",
       "      <th>title</th>\n",
       "    </tr>\n",
       "  </thead>\n",
       "  <tbody>\n",
       "    <tr>\n",
       "      <th>/movies/?id=1000ae.htm</th>\n",
       "      <td>$130 million</td>\n",
       "      <td>Sony / Columbia</td>\n",
       "      <td>$62,472,100</td>\n",
       "      <td>$183,321,030</td>\n",
       "      <td>Sci-Fi</td>\n",
       "      <td>3,401</td>\n",
       "      <td>PG-13</td>\n",
       "      <td>May 31, 2013</td>\n",
       "      <td>1 hrs. 40 min.</td>\n",
       "      <td>After Earth</td>\n",
       "    </tr>\n",
       "    <tr>\n",
       "      <th>/movies/?id=1001rabbittales.htm</th>\n",
       "      <td>N/A</td>\n",
       "      <td>Warner Bros.</td>\n",
       "      <td>$230,500</td>\n",
       "      <td>NaN</td>\n",
       "      <td>Animation</td>\n",
       "      <td>33</td>\n",
       "      <td>G</td>\n",
       "      <td>November 19, 1982</td>\n",
       "      <td>1 hrs. 30 min.</td>\n",
       "      <td>Bugs Bunny's 1001 Rabbit Tales</td>\n",
       "    </tr>\n",
       "    <tr>\n",
       "      <th>/movies/?id=100foot.htm</th>\n",
       "      <td>$22 million</td>\n",
       "      <td>Buena Vista</td>\n",
       "      <td>$58,003,200</td>\n",
       "      <td>$34,640,000</td>\n",
       "      <td>Drama</td>\n",
       "      <td>2,023</td>\n",
       "      <td>PG</td>\n",
       "      <td>August 8, 2014</td>\n",
       "      <td>2 hrs. 2 min.</td>\n",
       "      <td>The Hundred-Foot Journey</td>\n",
       "    </tr>\n",
       "    <tr>\n",
       "      <th>/movies/?id=1952.htm</th>\n",
       "      <td>$190 million</td>\n",
       "      <td>Buena Vista</td>\n",
       "      <td>$95,801,600</td>\n",
       "      <td>$115,718,000</td>\n",
       "      <td>Sci-Fi</td>\n",
       "      <td>3,972</td>\n",
       "      <td>PG</td>\n",
       "      <td>May 22, 2015</td>\n",
       "      <td>2 hrs. 10 min.</td>\n",
       "      <td>Tomorrowland</td>\n",
       "    </tr>\n",
       "    <tr>\n",
       "      <th>/movies/?id=1dwhereweare.htm</th>\n",
       "      <td>NaN</td>\n",
       "      <td>NaN</td>\n",
       "      <td>NaN</td>\n",
       "      <td>$4,844,000</td>\n",
       "      <td>NaN</td>\n",
       "      <td>n/a</td>\n",
       "      <td>NaN</td>\n",
       "      <td>NaN</td>\n",
       "      <td>NaN</td>\n",
       "      <td>One Direction: Where We Are</td>\n",
       "    </tr>\n",
       "  </tbody>\n",
       "</table>\n",
       "</div>"
      ],
      "text/plain": [
       "                                       budget      distributor     domestic  \\\n",
       "/movies/?id=1000ae.htm           $130 million  Sony / Columbia  $62,472,100   \n",
       "/movies/?id=1001rabbittales.htm           N/A     Warner Bros.     $230,500   \n",
       "/movies/?id=100foot.htm           $22 million      Buena Vista  $58,003,200   \n",
       "/movies/?id=1952.htm             $190 million      Buena Vista  $95,801,600   \n",
       "/movies/?id=1dwhereweare.htm              NaN              NaN          NaN   \n",
       "\n",
       "                                       foreign      genre num_open_theatres  \\\n",
       "/movies/?id=1000ae.htm            $183,321,030     Sci-Fi             3,401   \n",
       "/movies/?id=1001rabbittales.htm            NaN  Animation                33   \n",
       "/movies/?id=100foot.htm            $34,640,000      Drama             2,023   \n",
       "/movies/?id=1952.htm              $115,718,000     Sci-Fi             3,972   \n",
       "/movies/?id=1dwhereweare.htm        $4,844,000        NaN               n/a   \n",
       "\n",
       "                                rating            release         runtime  \\\n",
       "/movies/?id=1000ae.htm           PG-13       May 31, 2013  1 hrs. 40 min.   \n",
       "/movies/?id=1001rabbittales.htm      G  November 19, 1982  1 hrs. 30 min.   \n",
       "/movies/?id=100foot.htm             PG     August 8, 2014   2 hrs. 2 min.   \n",
       "/movies/?id=1952.htm                PG       May 22, 2015  2 hrs. 10 min.   \n",
       "/movies/?id=1dwhereweare.htm       NaN                NaN             NaN   \n",
       "\n",
       "                                                          title  \n",
       "/movies/?id=1000ae.htm                              After Earth  \n",
       "/movies/?id=1001rabbittales.htm  Bugs Bunny's 1001 Rabbit Tales  \n",
       "/movies/?id=100foot.htm                The Hundred-Foot Journey  \n",
       "/movies/?id=1952.htm                               Tomorrowland  \n",
       "/movies/?id=1dwhereweare.htm        One Direction: Where We Are  "
      ]
     },
     "execution_count": 119,
     "metadata": {},
     "output_type": "execute_result"
    }
   ],
   "source": [
    "df.head()"
   ]
  },
  {
   "cell_type": "code",
   "execution_count": 121,
   "metadata": {
    "collapsed": false
   },
   "outputs": [
    {
     "data": {
      "text/plain": [
       "(16789, 10)"
      ]
     },
     "execution_count": 121,
     "metadata": {},
     "output_type": "execute_result"
    }
   ],
   "source": [
    "df.shape"
   ]
  },
  {
   "cell_type": "code",
   "execution_count": null,
   "metadata": {
    "collapsed": false
   },
   "outputs": [],
   "source": []
  },
  {
   "cell_type": "code",
   "execution_count": 122,
   "metadata": {
    "collapsed": false
   },
   "outputs": [
    {
     "data": {
      "text/plain": [
       "Index(['budget', 'distributor', 'domestic', 'foreign', 'genre',\n",
       "       'num_open_theatres', 'rating', 'release', 'runtime', 'title'],\n",
       "      dtype='object')"
      ]
     },
     "execution_count": 122,
     "metadata": {},
     "output_type": "execute_result"
    }
   ],
   "source": [
    "df.columns"
   ]
  },
  {
   "cell_type": "code",
   "execution_count": 123,
   "metadata": {
    "collapsed": false
   },
   "outputs": [],
   "source": [
    "ep = EasyPeasy()"
   ]
  },
  {
   "cell_type": "code",
   "execution_count": null,
   "metadata": {
    "collapsed": false
   },
   "outputs": [],
   "source": []
  },
  {
   "cell_type": "code",
   "execution_count": 124,
   "metadata": {
    "collapsed": false
   },
   "outputs": [],
   "source": [
    "def adj_infl(dta):\n",
    "    amount_ = dta[0]\n",
    "    year_ = str(dta[1].year)\n",
    "    return ep.normalize(amount= amount_, region='US', from_year=year_, to_year='latest') *1.09"
   ]
  },
  {
   "cell_type": "code",
   "execution_count": null,
   "metadata": {
    "collapsed": false
   },
   "outputs": [],
   "source": []
  },
  {
   "cell_type": "code",
   "execution_count": 125,
   "metadata": {
    "collapsed": true
   },
   "outputs": [],
   "source": [
    "def convert_budget(string):\n",
    "    try:\n",
    "        string = string.replace('$', '')\n",
    "        string = string.replace(',', '')\n",
    "        if '.' in string:\n",
    "            string = string.replace('.', '')\n",
    "            string = float(string.replace(' million', '00000'))\n",
    "        else:\n",
    "            string = float(string.replace(' million', '000000'))\n",
    "    except:\n",
    "        string = np.nan\n",
    "    return string"
   ]
  },
  {
   "cell_type": "code",
   "execution_count": 126,
   "metadata": {
    "collapsed": true
   },
   "outputs": [],
   "source": [
    "def convert_domestic_foreign(string):\n",
    "    try:\n",
    "        string = string.replace('$', '')\n",
    "        string = float(string.replace(',', ''))\n",
    "    except:\n",
    "        string = np.nan\n",
    "    return string"
   ]
  },
  {
   "cell_type": "code",
   "execution_count": 127,
   "metadata": {
    "collapsed": true
   },
   "outputs": [],
   "source": [
    "def convert_runtime(string):\n",
    "    try:\n",
    "        string_list = string.split()\n",
    "        if len(string_list) == 4:\n",
    "            hrs = float(string_list[0])\n",
    "            mins = float(string_list[2])\n",
    "            total = (hrs*60)+mins\n",
    "            return total\n",
    "        else:\n",
    "            return np.nan\n",
    "    except:\n",
    "        return np.nan"
   ]
  },
  {
   "cell_type": "code",
   "execution_count": 128,
   "metadata": {
    "collapsed": true
   },
   "outputs": [],
   "source": [
    "df['budget'] = df['budget'].map(convert_budget)\n",
    "df['domestic'] = df['domestic'].map(convert_domestic_foreign)\n",
    "df['foreign'] = df['foreign'].map(convert_domestic_foreign)\n",
    "df['runtime'] = df['runtime'].map(convert_runtime)"
   ]
  },
  {
   "cell_type": "code",
   "execution_count": 129,
   "metadata": {
    "collapsed": false
   },
   "outputs": [
    {
     "data": {
      "text/plain": [
       "(16789, 10)"
      ]
     },
     "execution_count": 129,
     "metadata": {},
     "output_type": "execute_result"
    }
   ],
   "source": [
    "df.shape"
   ]
  },
  {
   "cell_type": "code",
   "execution_count": 133,
   "metadata": {
    "collapsed": false
   },
   "outputs": [
    {
     "data": {
      "text/html": [
       "<div>\n",
       "<table border=\"1\" class=\"dataframe\">\n",
       "  <thead>\n",
       "    <tr style=\"text-align: right;\">\n",
       "      <th></th>\n",
       "      <th>budget</th>\n",
       "      <th>distributor</th>\n",
       "      <th>domestic</th>\n",
       "      <th>foreign</th>\n",
       "      <th>genre</th>\n",
       "      <th>num_open_theatres</th>\n",
       "      <th>rating</th>\n",
       "      <th>release</th>\n",
       "      <th>runtime</th>\n",
       "      <th>title</th>\n",
       "    </tr>\n",
       "  </thead>\n",
       "  <tbody>\n",
       "    <tr>\n",
       "      <th>/movies/?id=1000ae.htm</th>\n",
       "      <td>130000000.0</td>\n",
       "      <td>Sony / Columbia</td>\n",
       "      <td>62472100.0</td>\n",
       "      <td>183321030.0</td>\n",
       "      <td>Sci-Fi</td>\n",
       "      <td>3,401</td>\n",
       "      <td>PG-13</td>\n",
       "      <td>May 31, 2013</td>\n",
       "      <td>100.0</td>\n",
       "      <td>After Earth</td>\n",
       "    </tr>\n",
       "    <tr>\n",
       "      <th>/movies/?id=1001rabbittales.htm</th>\n",
       "      <td>NaN</td>\n",
       "      <td>Warner Bros.</td>\n",
       "      <td>230500.0</td>\n",
       "      <td>NaN</td>\n",
       "      <td>Animation</td>\n",
       "      <td>33</td>\n",
       "      <td>G</td>\n",
       "      <td>November 19, 1982</td>\n",
       "      <td>90.0</td>\n",
       "      <td>Bugs Bunny's 1001 Rabbit Tales</td>\n",
       "    </tr>\n",
       "    <tr>\n",
       "      <th>/movies/?id=100foot.htm</th>\n",
       "      <td>22000000.0</td>\n",
       "      <td>Buena Vista</td>\n",
       "      <td>58003200.0</td>\n",
       "      <td>34640000.0</td>\n",
       "      <td>Drama</td>\n",
       "      <td>2,023</td>\n",
       "      <td>PG</td>\n",
       "      <td>August 8, 2014</td>\n",
       "      <td>122.0</td>\n",
       "      <td>The Hundred-Foot Journey</td>\n",
       "    </tr>\n",
       "    <tr>\n",
       "      <th>/movies/?id=1952.htm</th>\n",
       "      <td>190000000.0</td>\n",
       "      <td>Buena Vista</td>\n",
       "      <td>95801600.0</td>\n",
       "      <td>115718000.0</td>\n",
       "      <td>Sci-Fi</td>\n",
       "      <td>3,972</td>\n",
       "      <td>PG</td>\n",
       "      <td>May 22, 2015</td>\n",
       "      <td>130.0</td>\n",
       "      <td>Tomorrowland</td>\n",
       "    </tr>\n",
       "    <tr>\n",
       "      <th>/movies/?id=1dwhereweare.htm</th>\n",
       "      <td>NaN</td>\n",
       "      <td>NaN</td>\n",
       "      <td>NaN</td>\n",
       "      <td>4844000.0</td>\n",
       "      <td>NaN</td>\n",
       "      <td>n/a</td>\n",
       "      <td>NaN</td>\n",
       "      <td>NaN</td>\n",
       "      <td>NaN</td>\n",
       "      <td>One Direction: Where We Are</td>\n",
       "    </tr>\n",
       "  </tbody>\n",
       "</table>\n",
       "</div>"
      ],
      "text/plain": [
       "                                      budget      distributor    domestic  \\\n",
       "/movies/?id=1000ae.htm           130000000.0  Sony / Columbia  62472100.0   \n",
       "/movies/?id=1001rabbittales.htm          NaN     Warner Bros.    230500.0   \n",
       "/movies/?id=100foot.htm           22000000.0      Buena Vista  58003200.0   \n",
       "/movies/?id=1952.htm             190000000.0      Buena Vista  95801600.0   \n",
       "/movies/?id=1dwhereweare.htm             NaN              NaN         NaN   \n",
       "\n",
       "                                     foreign      genre num_open_theatres  \\\n",
       "/movies/?id=1000ae.htm           183321030.0     Sci-Fi             3,401   \n",
       "/movies/?id=1001rabbittales.htm          NaN  Animation                33   \n",
       "/movies/?id=100foot.htm           34640000.0      Drama             2,023   \n",
       "/movies/?id=1952.htm             115718000.0     Sci-Fi             3,972   \n",
       "/movies/?id=1dwhereweare.htm       4844000.0        NaN               n/a   \n",
       "\n",
       "                                rating            release  runtime  \\\n",
       "/movies/?id=1000ae.htm           PG-13       May 31, 2013    100.0   \n",
       "/movies/?id=1001rabbittales.htm      G  November 19, 1982     90.0   \n",
       "/movies/?id=100foot.htm             PG     August 8, 2014    122.0   \n",
       "/movies/?id=1952.htm                PG       May 22, 2015    130.0   \n",
       "/movies/?id=1dwhereweare.htm       NaN                NaN      NaN   \n",
       "\n",
       "                                                          title  \n",
       "/movies/?id=1000ae.htm                              After Earth  \n",
       "/movies/?id=1001rabbittales.htm  Bugs Bunny's 1001 Rabbit Tales  \n",
       "/movies/?id=100foot.htm                The Hundred-Foot Journey  \n",
       "/movies/?id=1952.htm                               Tomorrowland  \n",
       "/movies/?id=1dwhereweare.htm        One Direction: Where We Are  "
      ]
     },
     "execution_count": 133,
     "metadata": {},
     "output_type": "execute_result"
    }
   ],
   "source": [
    "df.head()"
   ]
  },
  {
   "cell_type": "code",
   "execution_count": 138,
   "metadata": {
    "collapsed": true
   },
   "outputs": [],
   "source": [
    "df = df.replace('N/A', np.nan)\n",
    "df = df.replace('\\xa0n/a', np.nan)\n"
   ]
  },
  {
   "cell_type": "code",
   "execution_count": 142,
   "metadata": {
    "collapsed": false
   },
   "outputs": [
    {
     "data": {
      "text/plain": [
       "(2941, 13)"
      ]
     },
     "execution_count": 142,
     "metadata": {},
     "output_type": "execute_result"
    }
   ],
   "source": [
    "df[np.isfinite(df['budget'])].shape"
   ]
  },
  {
   "cell_type": "code",
   "execution_count": 139,
   "metadata": {
    "collapsed": true
   },
   "outputs": [],
   "source": [
    "df['adj_release'] = pd.to_datetime(df['release'])\n",
    "df['worldwide_revenue'] = df['domestic'] + df['foreign']\n",
    "df['worldwide_profit'] = df['worldwide_revenue'] - df['budget']"
   ]
  },
  {
   "cell_type": "code",
   "execution_count": 140,
   "metadata": {
    "collapsed": false
   },
   "outputs": [
    {
     "ename": "ValueError",
     "evalue": "('cannot convert float NaN to integer', 'occurred at index /movies/?id=1dwhereweare.htm')",
     "output_type": "error",
     "traceback": [
      "\u001b[0;31m---------------------------------------------------------------------------\u001b[0m",
      "\u001b[0;31mValueError\u001b[0m                                Traceback (most recent call last)",
      "\u001b[0;32m<ipython-input-140-fb8278d186d6>\u001b[0m in \u001b[0;36m<module>\u001b[0;34m()\u001b[0m\n\u001b[0;32m----> 1\u001b[0;31m \u001b[0mdf\u001b[0m\u001b[0;34m[\u001b[0m\u001b[0;34m'adj_budget'\u001b[0m\u001b[0;34m]\u001b[0m \u001b[0;34m=\u001b[0m \u001b[0mdf\u001b[0m\u001b[0;34m[\u001b[0m\u001b[0;34m[\u001b[0m\u001b[0;34m'budget'\u001b[0m\u001b[0;34m,\u001b[0m \u001b[0;34m'adj_release'\u001b[0m\u001b[0;34m]\u001b[0m\u001b[0;34m]\u001b[0m\u001b[0;34m.\u001b[0m\u001b[0mapply\u001b[0m\u001b[0;34m(\u001b[0m\u001b[0madj_infl\u001b[0m\u001b[0;34m,\u001b[0m \u001b[0maxis\u001b[0m\u001b[0;34m=\u001b[0m\u001b[0;36m1\u001b[0m\u001b[0;34m)\u001b[0m\u001b[0;34m\u001b[0m\u001b[0m\n\u001b[0m\u001b[1;32m      2\u001b[0m \u001b[0mdf\u001b[0m\u001b[0;34m[\u001b[0m\u001b[0;34m'adj_worldwide_revenue'\u001b[0m\u001b[0;34m]\u001b[0m \u001b[0;34m=\u001b[0m \u001b[0mdf\u001b[0m\u001b[0;34m[\u001b[0m\u001b[0;34m[\u001b[0m\u001b[0;34m'worldwide_revenue'\u001b[0m\u001b[0;34m,\u001b[0m \u001b[0;34m'adj_release'\u001b[0m\u001b[0;34m]\u001b[0m\u001b[0;34m]\u001b[0m\u001b[0;34m.\u001b[0m\u001b[0mapply\u001b[0m\u001b[0;34m(\u001b[0m\u001b[0madj_infl\u001b[0m\u001b[0;34m,\u001b[0m \u001b[0maxis\u001b[0m\u001b[0;34m=\u001b[0m\u001b[0;36m1\u001b[0m\u001b[0;34m)\u001b[0m\u001b[0;34m\u001b[0m\u001b[0m\n",
      "\u001b[0;32m/Users/bstraate/anaconda/lib/python3.5/site-packages/pandas/core/frame.py\u001b[0m in \u001b[0;36mapply\u001b[0;34m(self, func, axis, broadcast, raw, reduce, args, **kwds)\u001b[0m\n\u001b[1;32m   4150\u001b[0m                     \u001b[0;32mif\u001b[0m \u001b[0mreduce\u001b[0m \u001b[0;32mis\u001b[0m \u001b[0;32mNone\u001b[0m\u001b[0;34m:\u001b[0m\u001b[0;34m\u001b[0m\u001b[0m\n\u001b[1;32m   4151\u001b[0m                         \u001b[0mreduce\u001b[0m \u001b[0;34m=\u001b[0m \u001b[0;32mTrue\u001b[0m\u001b[0;34m\u001b[0m\u001b[0m\n\u001b[0;32m-> 4152\u001b[0;31m                     \u001b[0;32mreturn\u001b[0m \u001b[0mself\u001b[0m\u001b[0;34m.\u001b[0m\u001b[0m_apply_standard\u001b[0m\u001b[0;34m(\u001b[0m\u001b[0mf\u001b[0m\u001b[0;34m,\u001b[0m \u001b[0maxis\u001b[0m\u001b[0;34m,\u001b[0m \u001b[0mreduce\u001b[0m\u001b[0;34m=\u001b[0m\u001b[0mreduce\u001b[0m\u001b[0;34m)\u001b[0m\u001b[0;34m\u001b[0m\u001b[0m\n\u001b[0m\u001b[1;32m   4153\u001b[0m             \u001b[0;32melse\u001b[0m\u001b[0;34m:\u001b[0m\u001b[0;34m\u001b[0m\u001b[0m\n\u001b[1;32m   4154\u001b[0m                 \u001b[0;32mreturn\u001b[0m \u001b[0mself\u001b[0m\u001b[0;34m.\u001b[0m\u001b[0m_apply_broadcast\u001b[0m\u001b[0;34m(\u001b[0m\u001b[0mf\u001b[0m\u001b[0;34m,\u001b[0m \u001b[0maxis\u001b[0m\u001b[0;34m)\u001b[0m\u001b[0;34m\u001b[0m\u001b[0m\n",
      "\u001b[0;32m/Users/bstraate/anaconda/lib/python3.5/site-packages/pandas/core/frame.py\u001b[0m in \u001b[0;36m_apply_standard\u001b[0;34m(self, func, axis, ignore_failures, reduce)\u001b[0m\n\u001b[1;32m   4246\u001b[0m             \u001b[0;32mtry\u001b[0m\u001b[0;34m:\u001b[0m\u001b[0;34m\u001b[0m\u001b[0m\n\u001b[1;32m   4247\u001b[0m                 \u001b[0;32mfor\u001b[0m \u001b[0mi\u001b[0m\u001b[0;34m,\u001b[0m \u001b[0mv\u001b[0m \u001b[0;32min\u001b[0m \u001b[0menumerate\u001b[0m\u001b[0;34m(\u001b[0m\u001b[0mseries_gen\u001b[0m\u001b[0;34m)\u001b[0m\u001b[0;34m:\u001b[0m\u001b[0;34m\u001b[0m\u001b[0m\n\u001b[0;32m-> 4248\u001b[0;31m                     \u001b[0mresults\u001b[0m\u001b[0;34m[\u001b[0m\u001b[0mi\u001b[0m\u001b[0;34m]\u001b[0m \u001b[0;34m=\u001b[0m \u001b[0mfunc\u001b[0m\u001b[0;34m(\u001b[0m\u001b[0mv\u001b[0m\u001b[0;34m)\u001b[0m\u001b[0;34m\u001b[0m\u001b[0m\n\u001b[0m\u001b[1;32m   4249\u001b[0m                     \u001b[0mkeys\u001b[0m\u001b[0;34m.\u001b[0m\u001b[0mappend\u001b[0m\u001b[0;34m(\u001b[0m\u001b[0mv\u001b[0m\u001b[0;34m.\u001b[0m\u001b[0mname\u001b[0m\u001b[0;34m)\u001b[0m\u001b[0;34m\u001b[0m\u001b[0m\n\u001b[1;32m   4250\u001b[0m             \u001b[0;32mexcept\u001b[0m \u001b[0mException\u001b[0m \u001b[0;32mas\u001b[0m \u001b[0me\u001b[0m\u001b[0;34m:\u001b[0m\u001b[0;34m\u001b[0m\u001b[0m\n",
      "\u001b[0;32m<ipython-input-124-23b7aa850a76>\u001b[0m in \u001b[0;36madj_infl\u001b[0;34m(dta)\u001b[0m\n\u001b[1;32m      2\u001b[0m     \u001b[0mamount_\u001b[0m \u001b[0;34m=\u001b[0m \u001b[0mdta\u001b[0m\u001b[0;34m[\u001b[0m\u001b[0;36m0\u001b[0m\u001b[0;34m]\u001b[0m\u001b[0;34m\u001b[0m\u001b[0m\n\u001b[1;32m      3\u001b[0m     \u001b[0myear_\u001b[0m \u001b[0;34m=\u001b[0m \u001b[0mstr\u001b[0m\u001b[0;34m(\u001b[0m\u001b[0mdta\u001b[0m\u001b[0;34m[\u001b[0m\u001b[0;36m1\u001b[0m\u001b[0;34m]\u001b[0m\u001b[0;34m.\u001b[0m\u001b[0myear\u001b[0m\u001b[0;34m)\u001b[0m\u001b[0;34m\u001b[0m\u001b[0m\n\u001b[0;32m----> 4\u001b[0;31m     \u001b[0;32mreturn\u001b[0m \u001b[0mep\u001b[0m\u001b[0;34m.\u001b[0m\u001b[0mnormalize\u001b[0m\u001b[0;34m(\u001b[0m\u001b[0mamount\u001b[0m\u001b[0;34m=\u001b[0m \u001b[0mamount_\u001b[0m\u001b[0;34m,\u001b[0m \u001b[0mregion\u001b[0m\u001b[0;34m=\u001b[0m\u001b[0;34m'US'\u001b[0m\u001b[0;34m,\u001b[0m \u001b[0mfrom_year\u001b[0m\u001b[0;34m=\u001b[0m\u001b[0myear_\u001b[0m\u001b[0;34m,\u001b[0m \u001b[0mto_year\u001b[0m\u001b[0;34m=\u001b[0m\u001b[0;34m'latest'\u001b[0m\u001b[0;34m)\u001b[0m \u001b[0;34m*\u001b[0m\u001b[0;36m1.09\u001b[0m\u001b[0;34m\u001b[0m\u001b[0m\n\u001b[0m",
      "\u001b[0;32m/Users/bstraate/anaconda/lib/python3.5/site-packages/easymoney/money.py\u001b[0m in \u001b[0;36mnormalize\u001b[0;34m(self, amount, region, from_year, to_year, base_currency, exchange_date, pretty_print)\u001b[0m\n\u001b[1;32m    555\u001b[0m \u001b[0;34m\u001b[0m\u001b[0m\n\u001b[1;32m    556\u001b[0m         \u001b[0;31m# Adjust input for inflation\u001b[0m\u001b[0;34m\u001b[0m\u001b[0;34m\u001b[0m\u001b[0m\n\u001b[0;32m--> 557\u001b[0;31m         \u001b[0mreal_amount\u001b[0m \u001b[0;34m=\u001b[0m \u001b[0mself\u001b[0m\u001b[0;34m.\u001b[0m\u001b[0minflation_calculator\u001b[0m\u001b[0;34m(\u001b[0m\u001b[0mamount\u001b[0m\u001b[0;34m,\u001b[0m \u001b[0mregion\u001b[0m\u001b[0;34m,\u001b[0m \u001b[0myear_a\u001b[0m\u001b[0;34m=\u001b[0m\u001b[0mfrom_year\u001b[0m\u001b[0;34m,\u001b[0m \u001b[0myear_b\u001b[0m\u001b[0;34m=\u001b[0m\u001b[0mto_year\u001b[0m\u001b[0;34m)\u001b[0m\u001b[0;34m\u001b[0m\u001b[0m\n\u001b[0m\u001b[1;32m    558\u001b[0m \u001b[0;34m\u001b[0m\u001b[0m\n\u001b[1;32m    559\u001b[0m         \u001b[0;31m# Compute Exchange\u001b[0m\u001b[0;34m\u001b[0m\u001b[0;34m\u001b[0m\u001b[0m\n",
      "\u001b[0;32m/Users/bstraate/anaconda/lib/python3.5/site-packages/easymoney/money.py\u001b[0m in \u001b[0;36minflation_calculator\u001b[0;34m(self, amount, region, year_a, year_b, pretty_print)\u001b[0m\n\u001b[1;32m    334\u001b[0m \u001b[0;34m\u001b[0m\u001b[0m\n\u001b[1;32m    335\u001b[0m         \u001b[0;31m# Get the CPI information\u001b[0m\u001b[0;34m\u001b[0m\u001b[0;34m\u001b[0m\u001b[0m\n\u001b[0;32m--> 336\u001b[0;31m         \u001b[0minflation_dict\u001b[0m\u001b[0;34m,\u001b[0m \u001b[0myears\u001b[0m \u001b[0;34m=\u001b[0m \u001b[0mself\u001b[0m\u001b[0;34m.\u001b[0m\u001b[0minflation\u001b[0m\u001b[0;34m(\u001b[0m\u001b[0mregion\u001b[0m\u001b[0;34m,\u001b[0m \u001b[0myear_a\u001b[0m\u001b[0;34m,\u001b[0m \u001b[0myear_b\u001b[0m\u001b[0;34m,\u001b[0m \u001b[0mreturn_raw_cpi_dict\u001b[0m\u001b[0;34m=\u001b[0m\u001b[0;34m'complete'\u001b[0m\u001b[0;34m)\u001b[0m\u001b[0;34m\u001b[0m\u001b[0m\n\u001b[0m\u001b[1;32m    337\u001b[0m \u001b[0;34m\u001b[0m\u001b[0m\n\u001b[1;32m    338\u001b[0m         \u001b[0;31m# Block division by zero\u001b[0m\u001b[0;34m\u001b[0m\u001b[0;34m\u001b[0m\u001b[0m\n",
      "\u001b[0;32m/Users/bstraate/anaconda/lib/python3.5/site-packages/easymoney/money.py\u001b[0m in \u001b[0;36minflation\u001b[0;34m(self, region, year_a, year_b, return_raw_cpi_dict, pretty_print)\u001b[0m\n\u001b[1;32m    278\u001b[0m         \u001b[0;31m# Set from_year\u001b[0m\u001b[0;34m\u001b[0m\u001b[0;34m\u001b[0m\u001b[0m\n\u001b[1;32m    279\u001b[0m         \u001b[0;32mif\u001b[0m \u001b[0myear_a\u001b[0m \u001b[0;32mis\u001b[0m \u001b[0;32mnot\u001b[0m \u001b[0;32mNone\u001b[0m\u001b[0;34m:\u001b[0m\u001b[0;34m\u001b[0m\u001b[0m\n\u001b[0;32m--> 280\u001b[0;31m             \u001b[0mfrom_year\u001b[0m \u001b[0;34m=\u001b[0m \u001b[0mself\u001b[0m\u001b[0;34m.\u001b[0m\u001b[0m_cpi_match\u001b[0m\u001b[0;34m(\u001b[0m\u001b[0mmapped_region\u001b[0m\u001b[0;34m,\u001b[0m \u001b[0myear_a\u001b[0m\u001b[0;34m)\u001b[0m\u001b[0;34m\u001b[0m\u001b[0m\n\u001b[0m\u001b[1;32m    281\u001b[0m         \u001b[0;32melse\u001b[0m\u001b[0;34m:\u001b[0m\u001b[0;34m\u001b[0m\u001b[0m\n\u001b[1;32m    282\u001b[0m             \u001b[0;32mraise\u001b[0m \u001b[0mValueError\u001b[0m\u001b[0;34m(\u001b[0m\u001b[0;34m\"year_a cannot be NoneType.\"\u001b[0m\u001b[0;34m)\u001b[0m\u001b[0;34m\u001b[0m\u001b[0m\n",
      "\u001b[0;32m/Users/bstraate/anaconda/lib/python3.5/site-packages/easymoney/money.py\u001b[0m in \u001b[0;36m_cpi_match\u001b[0;34m(self, region, year)\u001b[0m\n\u001b[1;32m    207\u001b[0m         \u001b[0;32melif\u001b[0m \u001b[0myear\u001b[0m \u001b[0;34m==\u001b[0m \u001b[0;34m'latest'\u001b[0m\u001b[0;34m:\u001b[0m\u001b[0;34m\u001b[0m\u001b[0m\n\u001b[1;32m    208\u001b[0m             \u001b[0;32mreturn\u001b[0m \u001b[0mmax\u001b[0m\u001b[0;34m(\u001b[0m\u001b[0mavailable_years\u001b[0m\u001b[0;34m)\u001b[0m\u001b[0;34m\u001b[0m\u001b[0m\n\u001b[0;32m--> 209\u001b[0;31m         \u001b[0;32melif\u001b[0m \u001b[0mint\u001b[0m\u001b[0;34m(\u001b[0m\u001b[0mfloat\u001b[0m\u001b[0;34m(\u001b[0m\u001b[0myear\u001b[0m\u001b[0;34m)\u001b[0m\u001b[0;34m)\u001b[0m \u001b[0;32mnot\u001b[0m \u001b[0;32min\u001b[0m \u001b[0mavailable_years\u001b[0m\u001b[0;34m:\u001b[0m\u001b[0;34m\u001b[0m\u001b[0m\n\u001b[0m\u001b[1;32m    210\u001b[0m             \u001b[0;32mif\u001b[0m \u001b[0mself\u001b[0m\u001b[0;34m.\u001b[0m\u001b[0m_fall_back\u001b[0m\u001b[0;34m:\u001b[0m\u001b[0;34m\u001b[0m\u001b[0m\n\u001b[1;32m    211\u001b[0m                 \u001b[0mnatural_region_name\u001b[0m \u001b[0;34m=\u001b[0m \u001b[0mself\u001b[0m\u001b[0;34m.\u001b[0m\u001b[0m_pycountry_wrap\u001b[0m\u001b[0;34m.\u001b[0m\u001b[0mmap_region_to_type\u001b[0m\u001b[0;34m(\u001b[0m\u001b[0mregion\u001b[0m\u001b[0;34m,\u001b[0m \u001b[0;34m'name'\u001b[0m\u001b[0;34m)\u001b[0m\u001b[0;34m\u001b[0m\u001b[0m\n",
      "\u001b[0;31mValueError\u001b[0m: ('cannot convert float NaN to integer', 'occurred at index /movies/?id=1dwhereweare.htm')"
     ]
    }
   ],
   "source": [
    "df['adj_budget'] = df[['budget', 'adj_release']].apply(adj_infl, axis=1)\n",
    "df['adj_worldwide_revenue'] = df[['worldwide_revenue', 'adj_release']].apply(adj_infl, axis=1)"
   ]
  },
  {
   "cell_type": "code",
   "execution_count": null,
   "metadata": {
    "collapsed": false
   },
   "outputs": [],
   "source": [
    "df.head()"
   ]
  },
  {
   "cell_type": "code",
   "execution_count": 111,
   "metadata": {
    "collapsed": false
   },
   "outputs": [],
   "source": [
    "with open('all_movie_data_cleaned_3.pkl', 'wb') as outpick:\n",
    "    pickle.dump(df, outpick)"
   ]
  },
  {
   "cell_type": "code",
   "execution_count": 112,
   "metadata": {
    "collapsed": false
   },
   "outputs": [
    {
     "data": {
      "text/plain": [
       "(2371, 15)"
      ]
     },
     "execution_count": 112,
     "metadata": {},
     "output_type": "execute_result"
    }
   ],
   "source": [
    "df.shape"
   ]
  },
  {
   "cell_type": "code",
   "execution_count": null,
   "metadata": {
    "collapsed": true
   },
   "outputs": [],
   "source": []
  }
 ],
 "metadata": {
  "anaconda-cloud": {},
  "kernelspec": {
   "display_name": "Python [conda root]",
   "language": "python",
   "name": "conda-root-py"
  },
  "language_info": {
   "codemirror_mode": {
    "name": "ipython",
    "version": 3
   },
   "file_extension": ".py",
   "mimetype": "text/x-python",
   "name": "python",
   "nbconvert_exporter": "python",
   "pygments_lexer": "ipython3",
   "version": "3.5.2"
  }
 },
 "nbformat": 4,
 "nbformat_minor": 1
}
