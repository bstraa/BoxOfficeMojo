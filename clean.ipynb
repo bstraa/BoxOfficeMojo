{
 "cells": [
  {
   "cell_type": "markdown",
   "metadata": {},
   "source": [
    "Load our pickle file and convert to a dataframe where we convert columns to floats, dummies, and time objects."
   ]
  },
  {
   "cell_type": "code",
   "execution_count": 64,
   "metadata": {
    "collapsed": false
   },
   "outputs": [],
   "source": [
    "import pickle\n",
    "import pandas as pd\n",
    "import numpy as np"
   ]
  },
  {
   "cell_type": "code",
   "execution_count": 65,
   "metadata": {
    "collapsed": true
   },
   "outputs": [],
   "source": [
    "with open('all_movie_data.pkl', 'r') as inpick:\n",
    "    data = pickle.load(inpick)"
   ]
  },
  {
   "cell_type": "code",
   "execution_count": 66,
   "metadata": {
    "collapsed": false
   },
   "outputs": [],
   "source": [
    "df=pd.DataFrame(data).T"
   ]
  },
  {
   "cell_type": "code",
   "execution_count": 67,
   "metadata": {
    "collapsed": false,
    "scrolled": true
   },
   "outputs": [
    {
     "data": {
      "text/html": [
       "<div>\n",
       "<table border=\"1\" class=\"dataframe\">\n",
       "  <thead>\n",
       "    <tr style=\"text-align: right;\">\n",
       "      <th></th>\n",
       "      <th>budget</th>\n",
       "      <th>distributor</th>\n",
       "      <th>domestic</th>\n",
       "      <th>foreign</th>\n",
       "      <th>genre</th>\n",
       "      <th>rating</th>\n",
       "      <th>release</th>\n",
       "      <th>runtime</th>\n",
       "    </tr>\n",
       "  </thead>\n",
       "  <tbody>\n",
       "    <tr>\n",
       "      <th>/movies/?id=1000ae.htm</th>\n",
       "      <td>$130 million</td>\n",
       "      <td>Sony / Columbia</td>\n",
       "      <td>$60,522,097</td>\n",
       "      <td>$183,321,030</td>\n",
       "      <td>Sci-Fi</td>\n",
       "      <td>PG-13</td>\n",
       "      <td>May 31, 2013</td>\n",
       "      <td>1 hrs. 40 min.</td>\n",
       "    </tr>\n",
       "    <tr>\n",
       "      <th>/movies/?id=1001rabbittales.htm</th>\n",
       "      <td>N/A</td>\n",
       "      <td>Warner Bros.</td>\n",
       "      <td>$78,350</td>\n",
       "      <td>NaN</td>\n",
       "      <td>Animation</td>\n",
       "      <td>G</td>\n",
       "      <td>November 19, 1982</td>\n",
       "      <td>1 hrs. 30 min.</td>\n",
       "    </tr>\n",
       "    <tr>\n",
       "      <th>/movies/?id=1952.htm</th>\n",
       "      <td>$190 million</td>\n",
       "      <td>Buena Vista</td>\n",
       "      <td>$93,436,322</td>\n",
       "      <td>$115,718,000</td>\n",
       "      <td>Sci-Fi</td>\n",
       "      <td>PG</td>\n",
       "      <td>May 22, 2015</td>\n",
       "      <td>2 hrs. 10 min.</td>\n",
       "    </tr>\n",
       "    <tr>\n",
       "      <th>/movies/?id=1dwhereweare.htm</th>\n",
       "      <td>NaN</td>\n",
       "      <td>NaN</td>\n",
       "      <td>NaN</td>\n",
       "      <td>$4,844,000</td>\n",
       "      <td>NaN</td>\n",
       "      <td>NaN</td>\n",
       "      <td>NaN</td>\n",
       "      <td>NaN</td>\n",
       "    </tr>\n",
       "    <tr>\n",
       "      <th>/movies/?id=32filmsaboutglenngould.htm</th>\n",
       "      <td>N/A</td>\n",
       "      <td>Samuel Goldwyn</td>\n",
       "      <td>$1,319,521</td>\n",
       "      <td>NaN</td>\n",
       "      <td>Music Drama</td>\n",
       "      <td>Unrated</td>\n",
       "      <td>November 26, 1993</td>\n",
       "      <td>1 hrs. 33 min.</td>\n",
       "    </tr>\n",
       "  </tbody>\n",
       "</table>\n",
       "</div>"
      ],
      "text/plain": [
       "                                              budget      distributor  \\\n",
       "/movies/?id=1000ae.htm                  $130 million  Sony / Columbia   \n",
       "/movies/?id=1001rabbittales.htm                  N/A     Warner Bros.   \n",
       "/movies/?id=1952.htm                    $190 million      Buena Vista   \n",
       "/movies/?id=1dwhereweare.htm                     NaN              NaN   \n",
       "/movies/?id=32filmsaboutglenngould.htm           N/A   Samuel Goldwyn   \n",
       "\n",
       "                                           domestic        foreign  \\\n",
       "/movies/?id=1000ae.htm                  $60,522,097   $183,321,030   \n",
       "/movies/?id=1001rabbittales.htm             $78,350            NaN   \n",
       "/movies/?id=1952.htm                    $93,436,322   $115,718,000   \n",
       "/movies/?id=1dwhereweare.htm                    NaN     $4,844,000   \n",
       "/movies/?id=32filmsaboutglenngould.htm   $1,319,521            NaN   \n",
       "\n",
       "                                              genre   rating  \\\n",
       "/movies/?id=1000ae.htm                       Sci-Fi    PG-13   \n",
       "/movies/?id=1001rabbittales.htm           Animation        G   \n",
       "/movies/?id=1952.htm                         Sci-Fi       PG   \n",
       "/movies/?id=1dwhereweare.htm                    NaN      NaN   \n",
       "/movies/?id=32filmsaboutglenngould.htm  Music Drama  Unrated   \n",
       "\n",
       "                                                  release         runtime  \n",
       "/movies/?id=1000ae.htm                       May 31, 2013  1 hrs. 40 min.  \n",
       "/movies/?id=1001rabbittales.htm         November 19, 1982  1 hrs. 30 min.  \n",
       "/movies/?id=1952.htm                         May 22, 2015  2 hrs. 10 min.  \n",
       "/movies/?id=1dwhereweare.htm                          NaN             NaN  \n",
       "/movies/?id=32filmsaboutglenngould.htm  November 26, 1993  1 hrs. 33 min.  "
      ]
     },
     "execution_count": 67,
     "metadata": {},
     "output_type": "execute_result"
    }
   ],
   "source": [
    "df.head()"
   ]
  },
  {
   "cell_type": "code",
   "execution_count": 68,
   "metadata": {
    "collapsed": true
   },
   "outputs": [],
   "source": [
    "def convert_budget(string):\n",
    "    try:\n",
    "        string = string.replace('$', '')\n",
    "        string = string.replace(',', '')\n",
    "        if '.' in string:\n",
    "            string = string.replace('.', '')\n",
    "            string = float(string.replace(' million', '00000'))\n",
    "        else:\n",
    "            string = float(string.replace(' million', '000000'))\n",
    "    except:\n",
    "        string = np.nan\n",
    "    return string"
   ]
  },
  {
   "cell_type": "code",
   "execution_count": 69,
   "metadata": {
    "collapsed": true
   },
   "outputs": [],
   "source": [
    "def convert_domestic_foreign(string):\n",
    "    try:\n",
    "        string = string.replace('$', '')\n",
    "        string = float(string.replace(',', ''))\n",
    "    except:\n",
    "        string = np.nan\n",
    "    return string"
   ]
  },
  {
   "cell_type": "code",
   "execution_count": 70,
   "metadata": {
    "collapsed": true
   },
   "outputs": [],
   "source": [
    "def convert_runtime(string):\n",
    "    try:\n",
    "        string_list = string.split()\n",
    "        if len(string_list) == 4:\n",
    "            hrs = float(string_list[0])\n",
    "            mins = float(string_list[2])\n",
    "            total = (hrs*60)+mins\n",
    "            return total\n",
    "        else:\n",
    "            return np.nan\n",
    "    except:\n",
    "        return np.nan\n"
   ]
  },
  {
   "cell_type": "code",
   "execution_count": 71,
   "metadata": {
    "collapsed": false
   },
   "outputs": [],
   "source": [
    "df['budget'] = df['budget'].map(convert_budget)"
   ]
  },
  {
   "cell_type": "code",
   "execution_count": 72,
   "metadata": {
    "collapsed": false,
    "scrolled": false
   },
   "outputs": [],
   "source": [
    "df['domestic'] = df['domestic'].map(convert_domestic_foreign)"
   ]
  },
  {
   "cell_type": "code",
   "execution_count": 73,
   "metadata": {
    "collapsed": false
   },
   "outputs": [],
   "source": [
    "df['foreign'] = df['foreign'].map(convert_domestic_foreign)"
   ]
  },
  {
   "cell_type": "code",
   "execution_count": 74,
   "metadata": {
    "collapsed": false
   },
   "outputs": [],
   "source": [
    "df['runtime'] = df['runtime'].map(convert_runtime)"
   ]
  },
  {
   "cell_type": "code",
   "execution_count": 75,
   "metadata": {
    "collapsed": false,
    "scrolled": true
   },
   "outputs": [],
   "source": [
    "df = df.replace('N/A', np.nan)\n",
    "df = df.replace('\\xa0n/a', np.nan)\n",
    "df = df.dropna()"
   ]
  },
  {
   "cell_type": "code",
   "execution_count": 76,
   "metadata": {
    "collapsed": false
   },
   "outputs": [
    {
     "data": {
      "text/html": [
       "<div>\n",
       "<table border=\"1\" class=\"dataframe\">\n",
       "  <thead>\n",
       "    <tr style=\"text-align: right;\">\n",
       "      <th></th>\n",
       "      <th>budget</th>\n",
       "      <th>distributor</th>\n",
       "      <th>domestic</th>\n",
       "      <th>foreign</th>\n",
       "      <th>genre</th>\n",
       "      <th>rating</th>\n",
       "      <th>release</th>\n",
       "      <th>runtime</th>\n",
       "    </tr>\n",
       "  </thead>\n",
       "  <tbody>\n",
       "    <tr>\n",
       "      <th>/movies/?id=1000ae.htm</th>\n",
       "      <td>130000000.0</td>\n",
       "      <td>Sony / Columbia</td>\n",
       "      <td>60522097.0</td>\n",
       "      <td>183321030.0</td>\n",
       "      <td>Sci-Fi</td>\n",
       "      <td>PG-13</td>\n",
       "      <td>May 31, 2013</td>\n",
       "      <td>100.0</td>\n",
       "    </tr>\n",
       "    <tr>\n",
       "      <th>/movies/?id=1952.htm</th>\n",
       "      <td>190000000.0</td>\n",
       "      <td>Buena Vista</td>\n",
       "      <td>93436322.0</td>\n",
       "      <td>115718000.0</td>\n",
       "      <td>Sci-Fi</td>\n",
       "      <td>PG</td>\n",
       "      <td>May 22, 2015</td>\n",
       "      <td>130.0</td>\n",
       "    </tr>\n",
       "    <tr>\n",
       "      <th>/movies/?id=3burialsofmelquiadesestrada.htm</th>\n",
       "      <td>15000000.0</td>\n",
       "      <td>Sony Classics</td>\n",
       "      <td>5027684.0</td>\n",
       "      <td>4017680.0</td>\n",
       "      <td>Western</td>\n",
       "      <td>R</td>\n",
       "      <td>December 14, 2005</td>\n",
       "      <td>121.0</td>\n",
       "    </tr>\n",
       "    <tr>\n",
       "      <th>/movies/?id=40shadesofblue.htm</th>\n",
       "      <td>1500000.0</td>\n",
       "      <td>Vitagraph</td>\n",
       "      <td>75828.0</td>\n",
       "      <td>96741.0</td>\n",
       "      <td>Drama</td>\n",
       "      <td>R</td>\n",
       "      <td>September 30, 2005</td>\n",
       "      <td>108.0</td>\n",
       "    </tr>\n",
       "    <tr>\n",
       "      <th>/movies/?id=abandon.htm</th>\n",
       "      <td>25000000.0</td>\n",
       "      <td>Paramount</td>\n",
       "      <td>10727683.0</td>\n",
       "      <td>1574536.0</td>\n",
       "      <td>Thriller</td>\n",
       "      <td>PG-13</td>\n",
       "      <td>October 18, 2002</td>\n",
       "      <td>99.0</td>\n",
       "    </tr>\n",
       "  </tbody>\n",
       "</table>\n",
       "</div>"
      ],
      "text/plain": [
       "                                                  budget      distributor  \\\n",
       "/movies/?id=1000ae.htm                       130000000.0  Sony / Columbia   \n",
       "/movies/?id=1952.htm                         190000000.0      Buena Vista   \n",
       "/movies/?id=3burialsofmelquiadesestrada.htm   15000000.0    Sony Classics   \n",
       "/movies/?id=40shadesofblue.htm                 1500000.0        Vitagraph   \n",
       "/movies/?id=abandon.htm                       25000000.0        Paramount   \n",
       "\n",
       "                                               domestic      foreign  \\\n",
       "/movies/?id=1000ae.htm                       60522097.0  183321030.0   \n",
       "/movies/?id=1952.htm                         93436322.0  115718000.0   \n",
       "/movies/?id=3burialsofmelquiadesestrada.htm   5027684.0    4017680.0   \n",
       "/movies/?id=40shadesofblue.htm                  75828.0      96741.0   \n",
       "/movies/?id=abandon.htm                      10727683.0    1574536.0   \n",
       "\n",
       "                                                genre rating  \\\n",
       "/movies/?id=1000ae.htm                         Sci-Fi  PG-13   \n",
       "/movies/?id=1952.htm                           Sci-Fi     PG   \n",
       "/movies/?id=3burialsofmelquiadesestrada.htm   Western      R   \n",
       "/movies/?id=40shadesofblue.htm                  Drama      R   \n",
       "/movies/?id=abandon.htm                      Thriller  PG-13   \n",
       "\n",
       "                                                        release  runtime  \n",
       "/movies/?id=1000ae.htm                             May 31, 2013    100.0  \n",
       "/movies/?id=1952.htm                               May 22, 2015    130.0  \n",
       "/movies/?id=3burialsofmelquiadesestrada.htm   December 14, 2005    121.0  \n",
       "/movies/?id=40shadesofblue.htm               September 30, 2005    108.0  \n",
       "/movies/?id=abandon.htm                        October 18, 2002     99.0  "
      ]
     },
     "execution_count": 76,
     "metadata": {},
     "output_type": "execute_result"
    }
   ],
   "source": [
    "df.head()"
   ]
  },
  {
   "cell_type": "code",
   "execution_count": 77,
   "metadata": {
    "collapsed": false
   },
   "outputs": [],
   "source": [
    "df['adj_release'] = pd.to_datetime(df['release'])"
   ]
  },
  {
   "cell_type": "code",
   "execution_count": 78,
   "metadata": {
    "collapsed": false
   },
   "outputs": [],
   "source": [
    "df['worldwide_revenue'] = df['domestic'] + df['foreign']\n",
    "df['worldwide_profit'] = df['worldwide_revenue'] - df['budget']"
   ]
  },
  {
   "cell_type": "code",
   "execution_count": 79,
   "metadata": {
    "collapsed": false
   },
   "outputs": [
    {
     "data": {
      "text/html": [
       "<div>\n",
       "<table border=\"1\" class=\"dataframe\">\n",
       "  <thead>\n",
       "    <tr style=\"text-align: right;\">\n",
       "      <th></th>\n",
       "      <th>budget</th>\n",
       "      <th>distributor</th>\n",
       "      <th>domestic</th>\n",
       "      <th>foreign</th>\n",
       "      <th>genre</th>\n",
       "      <th>rating</th>\n",
       "      <th>release</th>\n",
       "      <th>runtime</th>\n",
       "      <th>adj_release</th>\n",
       "      <th>worldwide_revenue</th>\n",
       "      <th>worldwide_profit</th>\n",
       "    </tr>\n",
       "  </thead>\n",
       "  <tbody>\n",
       "    <tr>\n",
       "      <th>/movies/?id=1000ae.htm</th>\n",
       "      <td>130000000.0</td>\n",
       "      <td>Sony / Columbia</td>\n",
       "      <td>60522097.0</td>\n",
       "      <td>183321030.0</td>\n",
       "      <td>Sci-Fi</td>\n",
       "      <td>PG-13</td>\n",
       "      <td>May 31, 2013</td>\n",
       "      <td>100.0</td>\n",
       "      <td>2013-05-31</td>\n",
       "      <td>243843127.0</td>\n",
       "      <td>113843127.0</td>\n",
       "    </tr>\n",
       "    <tr>\n",
       "      <th>/movies/?id=1952.htm</th>\n",
       "      <td>190000000.0</td>\n",
       "      <td>Buena Vista</td>\n",
       "      <td>93436322.0</td>\n",
       "      <td>115718000.0</td>\n",
       "      <td>Sci-Fi</td>\n",
       "      <td>PG</td>\n",
       "      <td>May 22, 2015</td>\n",
       "      <td>130.0</td>\n",
       "      <td>2015-05-22</td>\n",
       "      <td>209154322.0</td>\n",
       "      <td>19154322.0</td>\n",
       "    </tr>\n",
       "    <tr>\n",
       "      <th>/movies/?id=3burialsofmelquiadesestrada.htm</th>\n",
       "      <td>15000000.0</td>\n",
       "      <td>Sony Classics</td>\n",
       "      <td>5027684.0</td>\n",
       "      <td>4017680.0</td>\n",
       "      <td>Western</td>\n",
       "      <td>R</td>\n",
       "      <td>December 14, 2005</td>\n",
       "      <td>121.0</td>\n",
       "      <td>2005-12-14</td>\n",
       "      <td>9045364.0</td>\n",
       "      <td>-5954636.0</td>\n",
       "    </tr>\n",
       "    <tr>\n",
       "      <th>/movies/?id=40shadesofblue.htm</th>\n",
       "      <td>1500000.0</td>\n",
       "      <td>Vitagraph</td>\n",
       "      <td>75828.0</td>\n",
       "      <td>96741.0</td>\n",
       "      <td>Drama</td>\n",
       "      <td>R</td>\n",
       "      <td>September 30, 2005</td>\n",
       "      <td>108.0</td>\n",
       "      <td>2005-09-30</td>\n",
       "      <td>172569.0</td>\n",
       "      <td>-1327431.0</td>\n",
       "    </tr>\n",
       "    <tr>\n",
       "      <th>/movies/?id=abandon.htm</th>\n",
       "      <td>25000000.0</td>\n",
       "      <td>Paramount</td>\n",
       "      <td>10727683.0</td>\n",
       "      <td>1574536.0</td>\n",
       "      <td>Thriller</td>\n",
       "      <td>PG-13</td>\n",
       "      <td>October 18, 2002</td>\n",
       "      <td>99.0</td>\n",
       "      <td>2002-10-18</td>\n",
       "      <td>12302219.0</td>\n",
       "      <td>-12697781.0</td>\n",
       "    </tr>\n",
       "  </tbody>\n",
       "</table>\n",
       "</div>"
      ],
      "text/plain": [
       "                                                  budget      distributor  \\\n",
       "/movies/?id=1000ae.htm                       130000000.0  Sony / Columbia   \n",
       "/movies/?id=1952.htm                         190000000.0      Buena Vista   \n",
       "/movies/?id=3burialsofmelquiadesestrada.htm   15000000.0    Sony Classics   \n",
       "/movies/?id=40shadesofblue.htm                 1500000.0        Vitagraph   \n",
       "/movies/?id=abandon.htm                       25000000.0        Paramount   \n",
       "\n",
       "                                               domestic      foreign  \\\n",
       "/movies/?id=1000ae.htm                       60522097.0  183321030.0   \n",
       "/movies/?id=1952.htm                         93436322.0  115718000.0   \n",
       "/movies/?id=3burialsofmelquiadesestrada.htm   5027684.0    4017680.0   \n",
       "/movies/?id=40shadesofblue.htm                  75828.0      96741.0   \n",
       "/movies/?id=abandon.htm                      10727683.0    1574536.0   \n",
       "\n",
       "                                                genre rating  \\\n",
       "/movies/?id=1000ae.htm                         Sci-Fi  PG-13   \n",
       "/movies/?id=1952.htm                           Sci-Fi     PG   \n",
       "/movies/?id=3burialsofmelquiadesestrada.htm   Western      R   \n",
       "/movies/?id=40shadesofblue.htm                  Drama      R   \n",
       "/movies/?id=abandon.htm                      Thriller  PG-13   \n",
       "\n",
       "                                                        release  runtime  \\\n",
       "/movies/?id=1000ae.htm                             May 31, 2013    100.0   \n",
       "/movies/?id=1952.htm                               May 22, 2015    130.0   \n",
       "/movies/?id=3burialsofmelquiadesestrada.htm   December 14, 2005    121.0   \n",
       "/movies/?id=40shadesofblue.htm               September 30, 2005    108.0   \n",
       "/movies/?id=abandon.htm                        October 18, 2002     99.0   \n",
       "\n",
       "                                            adj_release  worldwide_revenue  \\\n",
       "/movies/?id=1000ae.htm                       2013-05-31        243843127.0   \n",
       "/movies/?id=1952.htm                         2015-05-22        209154322.0   \n",
       "/movies/?id=3burialsofmelquiadesestrada.htm  2005-12-14          9045364.0   \n",
       "/movies/?id=40shadesofblue.htm               2005-09-30           172569.0   \n",
       "/movies/?id=abandon.htm                      2002-10-18         12302219.0   \n",
       "\n",
       "                                             worldwide_profit  \n",
       "/movies/?id=1000ae.htm                            113843127.0  \n",
       "/movies/?id=1952.htm                               19154322.0  \n",
       "/movies/?id=3burialsofmelquiadesestrada.htm        -5954636.0  \n",
       "/movies/?id=40shadesofblue.htm                     -1327431.0  \n",
       "/movies/?id=abandon.htm                           -12697781.0  "
      ]
     },
     "execution_count": 79,
     "metadata": {},
     "output_type": "execute_result"
    }
   ],
   "source": [
    "df.head()"
   ]
  },
  {
   "cell_type": "code",
   "execution_count": 80,
   "metadata": {
    "collapsed": false
   },
   "outputs": [],
   "source": [
    "with open('all_movie_data_cleaned.pkl', 'w') as outpick:\n",
    "    pickle.dump(df, outpick)"
   ]
  },
  {
   "cell_type": "code",
   "execution_count": null,
   "metadata": {
    "collapsed": false
   },
   "outputs": [],
   "source": []
  },
  {
   "cell_type": "code",
   "execution_count": null,
   "metadata": {
    "collapsed": false
   },
   "outputs": [],
   "source": []
  },
  {
   "cell_type": "code",
   "execution_count": 62,
   "metadata": {
    "collapsed": false
   },
   "outputs": [],
   "source": []
  },
  {
   "cell_type": "code",
   "execution_count": null,
   "metadata": {
    "collapsed": true
   },
   "outputs": [],
   "source": []
  }
 ],
 "metadata": {
  "anaconda-cloud": {},
  "kernelspec": {
   "display_name": "Python 2",
   "language": "python",
   "name": "python2"
  },
  "language_info": {
   "codemirror_mode": {
    "name": "ipython",
    "version": 2
   },
   "file_extension": ".py",
   "mimetype": "text/x-python",
   "name": "python",
   "nbconvert_exporter": "python",
   "pygments_lexer": "ipython2",
   "version": "2.7.11"
  }
 },
 "nbformat": 4,
 "nbformat_minor": 0
}
